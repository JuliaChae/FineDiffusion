{
 "cells": [
  {
   "cell_type": "code",
   "execution_count": 1,
   "metadata": {},
   "outputs": [
    {
     "name": "stderr",
     "output_type": "stream",
     "text": [
      "/home/carlyn.1/miniconda3/envs/diffusion/lib/python3.9/site-packages/pandas/core/computation/expressions.py:21: UserWarning: Pandas requires version '2.8.4' or newer of 'numexpr' (version '2.7.3' currently installed).\n",
      "  from pandas.core.computation.check import NUMEXPR_INSTALLED\n"
     ]
    },
    {
     "name": "stdout",
     "output_type": "stream",
     "text": [
      "Loads checkpoint by local backend from path: td-hm_hrnet-w48_8xb32-210e_coco-256x192-0e67c616_20220913.pth\n"
     ]
    }
   ],
   "source": [
    "from mmpose.apis import inference_topdown, init_model\n",
    "from mmpose.utils import register_all_modules\n",
    "from PIL import Image, ImageDraw\n",
    "\n",
    "register_all_modules()\n",
    "\n",
    "config_file = 'td-hm_hrnet-w48_8xb32-210e_coco-256x192.py'\n",
    "checkpoint_file = 'td-hm_hrnet-w48_8xb32-210e_coco-256x192-0e67c616_20220913.pth'\n",
    "model = init_model(config_file, checkpoint_file, device='cuda:0')  # or device='cuda:0'\n",
    "\n",
    "# please prepare an image with person\n",
    "results = inference_topdown(model, 'demo.jpg')"
   ]
  },
  {
   "cell_type": "code",
   "execution_count": 2,
   "metadata": {},
   "outputs": [
    {
     "data": {
      "text/plain": [
       "array([[[143, 192, 248],\n",
       "        [143, 192, 248],\n",
       "        [143, 192, 248],\n",
       "        ...,\n",
       "        [219, 207, 191],\n",
       "        [164, 144, 133],\n",
       "        [125, 102,  94]],\n",
       "\n",
       "       [[143, 192, 248],\n",
       "        [143, 192, 248],\n",
       "        [143, 192, 248],\n",
       "        ...,\n",
       "        [249, 237, 221],\n",
       "        [230, 212, 202],\n",
       "        [183, 163, 154]],\n",
       "\n",
       "       [[143, 192, 248],\n",
       "        [143, 192, 248],\n",
       "        [143, 192, 248],\n",
       "        ...,\n",
       "        [255, 249, 235],\n",
       "        [255, 245, 236],\n",
       "        [216, 199, 191]],\n",
       "\n",
       "       ...,\n",
       "\n",
       "       [[ 33,  38,  41],\n",
       "        [ 34,  39,  42],\n",
       "        [ 41,  46,  49],\n",
       "        ...,\n",
       "        [ 21,  30,  27],\n",
       "        [ 18,  27,  24],\n",
       "        [ 28,  37,  34]],\n",
       "\n",
       "       [[ 32,  37,  40],\n",
       "        [ 41,  46,  49],\n",
       "        [ 44,  49,  52],\n",
       "        ...,\n",
       "        [ 23,  32,  29],\n",
       "        [ 24,  33,  30],\n",
       "        [ 28,  37,  34]],\n",
       "\n",
       "       [[ 43,  48,  51],\n",
       "        [ 56,  61,  64],\n",
       "        [ 55,  60,  63],\n",
       "        ...,\n",
       "        [ 25,  34,  31],\n",
       "        [ 28,  37,  34],\n",
       "        [ 26,  35,  32]]], dtype=uint8)"
      ]
     },
     "execution_count": 2,
     "metadata": {},
     "output_type": "execute_result"
    }
   ],
   "source": [
    "from mmpose.registry import VISUALIZERS\n",
    "import numpy as np\n",
    "from mmcv.image import imread\n",
    "\n",
    "model.cfg.visualizer.radius = 10\n",
    "model.cfg.visualizer.alpha = 1.0\n",
    "model.cfg.visualizer.line_width = 5\n",
    "\n",
    "visualizer = VISUALIZERS.build(model.cfg.visualizer)\n",
    "visualizer.set_dataset_meta(\n",
    "    model.dataset_meta, skeleton_style=\"mmpose\")\n",
    "\n",
    "im = visualizer.add_datasample(\n",
    "        'result',\n",
    "        imread(\"demo.jpg\", channel_order='rgb'),\n",
    "        data_sample=results,\n",
    "        draw_gt=False,\n",
    "        draw_bbox=True,\n",
    "        kpt_thr=0.3,\n",
    "        draw_heatmap=False,\n",
    "        show_kpt_idx=True,\n",
    "        skeleton_style=\"mmpose\",\n",
    "        show=False,\n",
    "        out_file=\"demo_skeleton.png\")\n",
    "\n",
    "Image.fromarray(im)\n"
   ]
  },
  {
   "cell_type": "code",
   "execution_count": 3,
   "metadata": {},
   "outputs": [],
   "source": [
    "keypoints = results[0].pred_instances.keypoints\n",
    "\n",
    "im = Image.open(\"demo.jpg\")\n",
    "imd = ImageDraw.Draw(im)\n",
    "\n",
    "radius = 5\n",
    "for x, y in keypoints[0]:\n",
    "    imd.ellipse((x, y, x+radius, y+radius), fill='red')\n",
    "im.save(\"demo_keypoints.png\")"
   ]
  }
 ],
 "metadata": {
  "kernelspec": {
   "display_name": "diffusion",
   "language": "python",
   "name": "python3"
  },
  "language_info": {
   "codemirror_mode": {
    "name": "ipython",
    "version": 3
   },
   "file_extension": ".py",
   "mimetype": "text/x-python",
   "name": "python",
   "nbconvert_exporter": "python",
   "pygments_lexer": "ipython3",
   "version": "3.9.18"
  }
 },
 "nbformat": 4,
 "nbformat_minor": 2
}
