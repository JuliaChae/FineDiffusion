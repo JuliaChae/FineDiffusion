{
 "cells": [
  {
   "cell_type": "code",
   "execution_count": 1,
   "metadata": {},
   "outputs": [
    {
     "data": {
      "text/plain": [
       "dict_keys(['info', 'licenses', 'images', 'annotations', 'categories'])"
      ]
     },
     "execution_count": 1,
     "metadata": {},
     "output_type": "execute_result"
    }
   ],
   "source": [
    "import json\n",
    "from pathlib import Path\n",
    "\n",
    "annotation_data_path = Path(\"/local/scratch/carlyn.1/datasets/ap-10k/annotations/ap10k-test-split1.json\")\n",
    "\n",
    "with open(annotation_data_path, 'r') as f:\n",
    "    ann_data = json.load(f)\n",
    "\n",
    "ann_data.keys()"
   ]
  },
  {
   "cell_type": "code",
   "execution_count": 9,
   "metadata": {},
   "outputs": [
    {
     "name": "stdout",
     "output_type": "stream",
     "text": [
      "1 antelope\n",
      "2 argali sheep\n",
      "3 bison\n",
      "4 buffalo\n",
      "5 cow\n",
      "6 sheep\n",
      "7 arctic fox\n",
      "8 dog\n",
      "9 fox\n",
      "10 wolf\n",
      "11 beaver\n",
      "12 alouatta\n",
      "13 monkey\n",
      "14 noisy night monkey\n",
      "15 spider monkey\n",
      "16 uakari\n",
      "17 deer\n",
      "18 moose\n",
      "19 hamster\n",
      "20 elephant\n",
      "21 horse\n",
      "22 zebra\n",
      "23 bobcat\n",
      "24 cat\n",
      "25 cheetah\n",
      "26 jaguar\n",
      "27 king cheetah\n",
      "28 leopard\n",
      "29 lion\n",
      "30 panther\n",
      "31 snow leopard\n",
      "32 tiger\n",
      "33 giraffe\n",
      "34 hippo\n",
      "35 chimpanzee\n",
      "36 gorilla\n",
      "37 orangutan\n",
      "38 rabbit\n",
      "39 skunk\n",
      "40 mouse\n",
      "41 rat\n",
      "42 otter\n",
      "43 weasel\n",
      "44 raccoon\n",
      "45 rhino\n",
      "46 marmot\n",
      "47 squirrel\n",
      "48 pig\n",
      "49 mole\n",
      "50 black bear\n",
      "51 brown bear\n",
      "52 panda\n",
      "53 polar bear\n",
      "54 bat\n"
     ]
    }
   ],
   "source": [
    "for cat_info in ann_data['categories']:\n",
    "    print(cat_info['id'], cat_info['name'])\n",
    "    \n",
    "# 33 giraffe"
   ]
  },
  {
   "cell_type": "code",
   "execution_count": 6,
   "metadata": {},
   "outputs": [
    {
     "name": "stdout",
     "output_type": "stream",
     "text": [
      "id 114\n",
      "image_id 102\n",
      "category_id 1\n",
      "bbox [424, 205, 552, 456]\n",
      "area 251712\n",
      "iscrowd 0\n",
      "num_keypoints 10\n",
      "keypoints [885, 355, 2, 810, 361, 2, 843, 412, 2, 864, 529, 2, 0, 0, 0, 0, 0, 0, 0, 0, 0, 0, 0, 0, 729, 571, 2, 822, 604, 2, 678, 619, 2, 0, 0, 0, 0, 0, 0, 0, 0, 0, 590, 473, 2, 456, 622, 2, 549, 631, 2]\n"
     ]
    }
   ],
   "source": [
    "for key, value in ann_data['annotations'][0].items():\n",
    "    print(key, value)"
   ]
  },
  {
   "cell_type": "code",
   "execution_count": 16,
   "metadata": {},
   "outputs": [
    {
     "data": {
      "text/plain": [
       "10015"
      ]
     },
     "execution_count": 16,
     "metadata": {},
     "output_type": "execute_result"
    }
   ],
   "source": [
    "import os\n",
    "# Count number of data files (10015 files)\n",
    "total = 0\n",
    "for _, _, files in os.walk(Path(\"/local/scratch/carlyn.1/datasets/ap-10k/data\")):\n",
    "    total += len(files)\n",
    "\n",
    "total"
   ]
  }
 ],
 "metadata": {
  "kernelspec": {
   "display_name": "diffusion",
   "language": "python",
   "name": "python3"
  },
  "language_info": {
   "codemirror_mode": {
    "name": "ipython",
    "version": 3
   },
   "file_extension": ".py",
   "mimetype": "text/x-python",
   "name": "python",
   "nbconvert_exporter": "python",
   "pygments_lexer": "ipython3",
   "version": "3.9.18"
  }
 },
 "nbformat": 4,
 "nbformat_minor": 2
}
