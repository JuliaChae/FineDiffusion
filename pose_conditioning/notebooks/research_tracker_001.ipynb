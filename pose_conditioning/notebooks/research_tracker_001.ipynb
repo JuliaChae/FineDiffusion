{
 "cells": [
  {
   "cell_type": "code",
   "execution_count": null,
   "metadata": {},
   "outputs": [],
   "source": [
    "from pathlib import Path\n",
    "\n",
    "# T2I model trained on pre-trained SDXL model (not on ap-10k)\n",
    "Path(\"/local/scratch/carlyn.1/\")"
   ]
  }
 ],
 "metadata": {
  "language_info": {
   "name": "python"
  }
 },
 "nbformat": 4,
 "nbformat_minor": 2
}
